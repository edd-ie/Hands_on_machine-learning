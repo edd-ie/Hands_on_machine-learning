{
 "cells": [
  {
   "cell_type": "code",
   "execution_count": 2,
   "id": "67d38982",
   "metadata": {},
   "outputs": [],
   "source": [
    "import os\n",
    "import tarfile\n",
    "import urllib\n",
    "import pandas as pd\n",
    "import matplotlib.pyplot as plt\n",
    "import numpy as np"
   ]
  },
  {
   "cell_type": "markdown",
   "id": "bbfd5afa",
   "metadata": {},
   "source": [
    "## Importing the data\n",
    "\n",
    "**MNIST dataset**\n",
    "- A set of 70,000 small images of digits handwritten by high school students and employees of the US Census Bureau. \n",
    "- Each image is labeled with the digit it represents."
   ]
  },
  {
   "cell_type": "code",
   "execution_count": 3,
   "id": "cbe6d2fe",
   "metadata": {},
   "outputs": [
    {
     "data": {
      "text/plain": [
       "dict_keys(['data', 'target', 'frame', 'categories', 'feature_names', 'target_names', 'DESCR', 'details', 'url'])"
      ]
     },
     "execution_count": 3,
     "metadata": {},
     "output_type": "execute_result"
    }
   ],
   "source": [
    "from sklearn.datasets import fetch_openml\n",
    "\n",
    "mnist = fetch_openml('mnist_784', version=1)\n",
    "mnist.keys()"
   ]
  },
  {
   "cell_type": "code",
   "execution_count": 4,
   "id": "abdd828b",
   "metadata": {},
   "outputs": [
    {
     "data": {
      "text/plain": [
       "(70000, 784)"
      ]
     },
     "execution_count": 4,
     "metadata": {},
     "output_type": "execute_result"
    }
   ],
   "source": [
    "X, y = mnist[\"data\"], mnist[\"target\"]\n",
    "X.shape"
   ]
  },
  {
   "cell_type": "code",
   "execution_count": 5,
   "id": "0073f0c8",
   "metadata": {},
   "outputs": [
    {
     "data": {
      "text/plain": [
       "(70000,)"
      ]
     },
     "execution_count": 5,
     "metadata": {},
     "output_type": "execute_result"
    }
   ],
   "source": [
    "y.shape"
   ]
  },
  {
   "cell_type": "markdown",
   "id": "dc743bd2",
   "metadata": {},
   "source": [
    "#### Analysis of shape\n",
    "- 70,000 images, and each image has 784 features. \n",
    "- This is because each image is 28 × 28 pixels \n",
    "- Each feature simply represents one pixel’s intensity, from 0 (white) to 255 (black). \n"
   ]
  },
  {
   "cell_type": "code",
   "execution_count": 6,
   "id": "7ff76a81",
   "metadata": {},
   "outputs": [],
   "source": [
    "y = y.astype(np.uint8)"
   ]
  },
  {
   "cell_type": "markdown",
   "id": "b2177b4a",
   "metadata": {},
   "source": [
    "## Spliting data to training and test set\n",
    "\n",
    "- Training 1st 60000 images = **:60000**\n",
    "- Test set last 10000 images = **60000:**"
   ]
  },
  {
   "cell_type": "code",
   "execution_count": 7,
   "id": "21709aac",
   "metadata": {},
   "outputs": [],
   "source": [
    "X_train, X_test, y_train, y_test = X[:60000], X[60000:], y[:60000], y[60000:]"
   ]
  },
  {
   "cell_type": "markdown",
   "id": "9c98a9e7",
   "metadata": {},
   "source": [
    "## Training a clasifier\n",
    "### Binary Classifier"
   ]
  },
  {
   "cell_type": "markdown",
   "id": "35660e75",
   "metadata": {},
   "source": [
    "### Stochastic Gradient Descent (SGD) classifier\n",
    "Using 1 value first"
   ]
  },
  {
   "cell_type": "code",
   "execution_count": 9,
   "id": "825c8d95",
   "metadata": {},
   "outputs": [],
   "source": [
    "y_train_5 = (y_train == 5)\n",
    "y_test_5 = (y_test == 5)"
   ]
  },
  {
   "cell_type": "code",
   "execution_count": 10,
   "id": "59c647ae",
   "metadata": {},
   "outputs": [
    {
     "data": {
      "text/plain": [
       "SGDClassifier(random_state=42)"
      ]
     },
     "execution_count": 10,
     "metadata": {},
     "output_type": "execute_result"
    }
   ],
   "source": [
    "from sklearn.linear_model import SGDClassifier\n",
    "\n",
    "sgd_clf = SGDClassifier(random_state=42)\n",
    "sgd_clf.fit(X_train, y_train_5)"
   ]
  },
  {
   "cell_type": "code",
   "execution_count": 11,
   "id": "19fa2785",
   "metadata": {},
   "outputs": [
    {
     "name": "stderr",
     "output_type": "stream",
     "text": [
      "D:\\Courses\\machine_learning\\machine_learning\\lib\\site-packages\\sklearn\\base.py:450: UserWarning: X does not have valid feature names, but SGDClassifier was fitted with feature names\n",
      "  warnings.warn(\n"
     ]
    },
    {
     "data": {
      "text/plain": [
       "array([ True])"
      ]
     },
     "execution_count": 11,
     "metadata": {},
     "output_type": "execute_result"
    }
   ],
   "source": [
    "some_digit = X.loc[0]\n",
    "\n",
    "sgd_clf.predict([some_digit])"
   ]
  },
  {
   "cell_type": "markdown",
   "id": "b56a6daa",
   "metadata": {},
   "source": [
    "## Performance measure\n",
    "\n",
    "### 1. Cross-Validation "
   ]
  },
  {
   "cell_type": "code",
   "execution_count": 12,
   "id": "bdcc4b05",
   "metadata": {},
   "outputs": [
    {
     "data": {
      "text/plain": [
       "array([0.95035, 0.96035, 0.9604 ])"
      ]
     },
     "execution_count": 12,
     "metadata": {},
     "output_type": "execute_result"
    }
   ],
   "source": [
    "from sklearn.model_selection import cross_val_score\n",
    "\n",
    "cross_val_score(sgd_clf, X_train, y_train_5, cv=3, scoring=\"accuracy\")"
   ]
  },
  {
   "cell_type": "markdown",
   "id": "dca3240d",
   "metadata": {},
   "source": [
    "* K-fold cross-validation means splitting the training set into K folds (in this case, three)\n",
    "* then making predictions and evaluating them on each fold using a model trained on the remaining folds\n",
    "\n",
    "- Model has a 95% accuraccy\n",
    "- Let's classify all the images in the \"not-5\" class to be sure"
   ]
  },
  {
   "cell_type": "code",
   "execution_count": 13,
   "id": "b9a8c358",
   "metadata": {},
   "outputs": [
    {
     "data": {
      "text/plain": [
       "array([0.91125, 0.90855, 0.90915])"
      ]
     },
     "execution_count": 13,
     "metadata": {},
     "output_type": "execute_result"
    }
   ],
   "source": [
    "from sklearn.base import BaseEstimator\n",
    "\n",
    "class Never5Classifier(BaseEstimator):\n",
    "    def fit(self, X, y=None):\n",
    "        return self\n",
    "    def predict(self, X):\n",
    "        return np.zeros((len(X), 1), dtype=bool)\n",
    "    \n",
    "never_5_clf = Never5Classifier()\n",
    "cross_val_score(never_5_clf, X_train, y_train_5, cv=3, scoring=\"accuracy\")"
   ]
  },
  {
   "cell_type": "markdown",
   "id": "11333c89",
   "metadata": {},
   "source": [
    "- 90% accuracy \n",
    "\n",
    "### 2. Confusion matrix"
   ]
  },
  {
   "cell_type": "code",
   "execution_count": 14,
   "id": "a772e3a1",
   "metadata": {},
   "outputs": [],
   "source": [
    "from sklearn.model_selection import cross_val_predict\n",
    "\n",
    "y_train_pred = cross_val_predict(sgd_clf, X_train, y_train_5, cv=3)"
   ]
  },
  {
   "cell_type": "code",
   "execution_count": 15,
   "id": "7e521ee0",
   "metadata": {},
   "outputs": [
    {
     "data": {
      "text/plain": [
       "array([[53892,   687],\n",
       "       [ 1891,  3530]], dtype=int64)"
      ]
     },
     "execution_count": 15,
     "metadata": {},
     "output_type": "execute_result"
    }
   ],
   "source": [
    "from sklearn.metrics import confusion_matrix\n",
    "\n",
    "confusion_matrix(y_train_5, y_train_pred)"
   ]
  },
  {
   "cell_type": "code",
   "execution_count": 16,
   "id": "4edb861a",
   "metadata": {},
   "outputs": [
    {
     "name": "stdout",
     "output_type": "stream",
     "text": [
      "Precision of classifier:  83.71 % \n",
      "True positive rate 65.12 %\n"
     ]
    }
   ],
   "source": [
    "tp = 3530\n",
    "fp = 687\n",
    "fn = 1891\n",
    "\n",
    "precision = tp/(tp+fp)\n",
    "recall = tp/(tp+fn)\n",
    "\n",
    "def percentage(value):\n",
    "    dec = value*100\n",
    "    ans = round(dec, 2)\n",
    "    return ans\n",
    "\n",
    "pr = percentage(precision)\n",
    "re = percentage(recall)\n",
    "\n",
    "print(\"Precision of classifier: \", pr,\"%\", \"\\nTrue positive rate\", re, \"%\")"
   ]
  },
  {
   "cell_type": "code",
   "execution_count": 17,
   "id": "98c67dcf",
   "metadata": {},
   "outputs": [
    {
     "name": "stdout",
     "output_type": "stream",
     "text": [
      "Precision of classifier:  83.71 % \n",
      "True positive rate 65.12 %\n"
     ]
    }
   ],
   "source": [
    "from sklearn.metrics import precision_score, recall_score\n",
    "\n",
    "prec = precision_score(y_train_5, y_train_pred)\n",
    "rec = recall_score(y_train_5, y_train_pred)\n",
    "\n",
    "pr = percentage(prec)\n",
    "re = percentage(rec)\n",
    "print(\"Precision of classifier: \", pr,\"%\", \"\\nTrue positive rate\", re, \"%\")"
   ]
  },
  {
   "cell_type": "markdown",
   "id": "15234714",
   "metadata": {},
   "source": [
    "#### Analysis\n",
    "* Claims an image represents a 5, it is correct only **83.71%** of the time. (**Precision**)\n",
    "* Only detects **65.12%** of the 5s. (**Sensitivity**)\n",
    "\n",
    "#### Harmonic mean / F1 score"
   ]
  },
  {
   "cell_type": "code",
   "execution_count": 18,
   "id": "49d34bf7",
   "metadata": {},
   "outputs": [
    {
     "name": "stdout",
     "output_type": "stream",
     "text": [
      "F1 score:  73.25 %\n"
     ]
    }
   ],
   "source": [
    "f1 = 2/(1/prec + 1/rec)\n",
    "\n",
    "p = percentage(f1)\n",
    "print(\"F1 score: \", p, \"%\")"
   ]
  },
  {
   "cell_type": "code",
   "execution_count": 19,
   "id": "6830e90d",
   "metadata": {},
   "outputs": [
    {
     "name": "stdout",
     "output_type": "stream",
     "text": [
      "F1 score:  73.25 %\n"
     ]
    }
   ],
   "source": [
    "from sklearn.metrics import f1_score\n",
    "f1 = f1_score(y_train_5, y_train_pred)\n",
    "\n",
    "p = percentage(f1)\n",
    "print(\"F1 score: \", p, \"%\")"
   ]
  },
  {
   "cell_type": "markdown",
   "id": "0b3abc1a",
   "metadata": {},
   "source": [
    "### Prediction/Recall trade off\n",
    "#### Deciding a threshold using Precision/Recall curve"
   ]
  },
  {
   "cell_type": "code",
   "execution_count": 20,
   "id": "69eb9405",
   "metadata": {},
   "outputs": [],
   "source": [
    "\"\"\"GETING THE SCORE FOR EACH INSTANCE\"\"\"\n",
    "\n",
    "y_scores = cross_val_predict(sgd_clf, X_train, y_train_5, cv=3, method=\"decision_function\")"
   ]
  },
  {
   "cell_type": "code",
   "execution_count": 21,
   "id": "526d49cc",
   "metadata": {},
   "outputs": [],
   "source": [
    "\"\"\"GET PRECISION & RECALL FOR ALL POSSIBLE THRESHOLD\"\"\"\n",
    "\n",
    "from sklearn.metrics import precision_recall_curve\n",
    "\n",
    "precisions, recalls, thresholds = precision_recall_curve(y_train_5, y_scores)"
   ]
  },
  {
   "cell_type": "code",
   "execution_count": 22,
   "id": "48d94b9d",
   "metadata": {},
   "outputs": [
    {
     "data": {
      "image/png": "[encoded data removed]",
      "text/plain": [
       "<Figure size 432x288 with 1 Axes>"
      ]
     },
     "metadata": {
      "needs_background": "light"
     },
     "output_type": "display_data"
    }
   ],
   "source": [
    "\"\"\"PLOTTING PRECISION & RECALL AGAINST THRESHOLD\"\"\"\n",
    "\n",
    "def plot_precision_recall_vs_threshold(precisions, recalls, thresholds):\n",
    "    plt.plot(thresholds, precisions[:-1], \"b--\", label=\"Precision\")\n",
    "    plt.plot(thresholds, recalls[:-1], \"g-\", label=\"Recall\")\n",
    "    \n",
    "    plt.xlabel(\"Threshold\")\n",
    "    plt.title(\"Precision & Recall vs Decision threshold\")\n",
    "    plt.legend(shadow=True)\n",
    "    plt.grid()\n",
    "    \n",
    "\n",
    "plot_precision_recall_vs_threshold(precisions, recalls, thresholds)\n",
    "plt.show()"
   ]
  },
  {
   "cell_type": "code",
   "execution_count": 23,
   "id": "39a8a84c",
   "metadata": {},
   "outputs": [
    {
     "data": {
      "image/png": "[encoded data removed]",
      "text/plain": [
       "<Figure size 432x288 with 1 Axes>"
      ]
     },
     "metadata": {
      "needs_background": "light"
     },
     "output_type": "display_data"
    }
   ],
   "source": [
    "def plot_precision_vs_recall(precisions, recalls):\n",
    "    plt.plot(recalls[:-1], precisions[:-1], \"r-\", label=\"Precision/Recall Tradeoff\")\n",
    "    \n",
    "    plt.xlabel(\"Recall\")\n",
    "    plt.ylabel(\"Precision\")\n",
    "    plt.title(\"Precision vs Recall\")\n",
    "    plt.legend(loc=\"lower left\", shadow=True, fontsize=\"large\")\n",
    "    plt.grid()\n",
    "    \n",
    "\n",
    "plot_precision_vs_recall(precisions, recalls)\n",
    "plt.show()"
   ]
  },
  {
   "cell_type": "markdown",
   "id": "13802506",
   "metadata": {},
   "source": [
    "#### Analysis\n",
    "* Precision fall rapidly at 80% recall\n",
    "* Best threshold is preferable below 80% recall"
   ]
  },
  {
   "cell_type": "markdown",
   "id": "13e7ea75",
   "metadata": {},
   "source": [
    "### Selecting the threshold depending on precision/recall needs"
   ]
  },
  {
   "cell_type": "code",
   "execution_count": 24,
   "id": "ff500147",
   "metadata": {},
   "outputs": [
    {
     "data": {
      "text/plain": [
       "3370.019499143958"
      ]
     },
     "execution_count": 24,
     "metadata": {},
     "output_type": "execute_result"
    }
   ],
   "source": [
    "\"\"\"90% PRECISION\"\"\"\n",
    "\n",
    "threshold_90_precision = thresholds[np.argmax(precisions >= 0.90)]\n",
    "threshold_90_precision"
   ]
  },
  {
   "cell_type": "code",
   "execution_count": 25,
   "id": "ebf7264e",
   "metadata": {},
   "outputs": [
    {
     "name": "stdout",
     "output_type": "stream",
     "text": [
      "Precision of classifier:  90.0 %\n"
     ]
    }
   ],
   "source": [
    "y_train_pred_90 = (y_scores >= threshold_90_precision)\n",
    "\n",
    "pre = precision_score(y_train_5, y_train_pred_90)\n",
    "\n",
    "pr = percentage(pre)\n",
    "print(\"Precision of classifier: \", pr,\"%\")"
   ]
  },
  {
   "cell_type": "code",
   "execution_count": 26,
   "id": "82a57151",
   "metadata": {
    "scrolled": true
   },
   "outputs": [
    {
     "name": "stdout",
     "output_type": "stream",
     "text": [
      "Recall of classifier:  48.0 %\n"
     ]
    }
   ],
   "source": [
    "rec = recall_score(y_train_5, y_train_pred_90)\n",
    "\n",
    "re = percentage(rec)\n",
    "print(\"Recall of classifier: \", re,\"%\")"
   ]
  },
  {
   "cell_type": "markdown",
   "id": "574546c3",
   "metadata": {},
   "source": [
    "#### Deciding a threshold using ROC Curve"
   ]
  },
  {
   "cell_type": "code",
   "execution_count": 27,
   "id": "932c2aa5",
   "metadata": {},
   "outputs": [],
   "source": [
    "from sklearn.metrics import roc_curve\n",
    "\n",
    "fpr, tpr, thresholds = roc_curve(y_train_5, y_scores)"
   ]
  },
  {
   "cell_type": "code",
   "execution_count": 28,
   "id": "3ce4cc4a",
   "metadata": {},
   "outputs": [
    {
     "data": {
      "image/png": "[encoded data removed]",
      "text/plain": [
       "<Figure size 432x288 with 1 Axes>"
      ]
     },
     "metadata": {
      "needs_background": "light"
     },
     "output_type": "display_data"
    }
   ],
   "source": [
    "def plot_roc_curve(fpr, tpr, label=None):\n",
    "    plt.plot(fpr, tpr, linewidth=2, label=\"FPR vs TPR\")\n",
    "    plt.plot([0, 1], [0, 1], 'k--') # Dashed diagonal\n",
    "    \n",
    "    plt.xlabel(\"False Positive Rate\")\n",
    "    plt.ylabel(\"True Positive Rate\")\n",
    "    plt.title(\"ROC Curve\")\n",
    "    plt.legend(loc=\"best\", shadow=True, fontsize=\"medium\")\n",
    "    plt.grid()\n",
    "\n",
    "plot_roc_curve(fpr, tpr)\n",
    "plt.show()"
   ]
  },
  {
   "cell_type": "code",
   "execution_count": 29,
   "id": "84c551e7",
   "metadata": {
    "scrolled": true
   },
   "outputs": [
    {
     "data": {
      "text/plain": [
       "0.9604938554008616"
      ]
     },
     "execution_count": 29,
     "metadata": {},
     "output_type": "execute_result"
    }
   ],
   "source": [
    "from sklearn.metrics import roc_auc_score\n",
    "\n",
    "roc_auc_score(y_train_5, y_scores)"
   ]
  },
  {
   "cell_type": "markdown",
   "id": "2c993b09",
   "metadata": {},
   "source": [
    "## RandomForestClassifier"
   ]
  },
  {
   "cell_type": "code",
   "execution_count": 31,
   "id": "3696accd",
   "metadata": {},
   "outputs": [],
   "source": [
    "from sklearn.ensemble import RandomForestClassifier\n",
    "\n",
    "forest_clf = RandomForestClassifier(random_state=42)\n",
    "y_probas_forest = cross_val_predict(forest_clf, X_train, y_train_5, cv=3, method=\"predict_proba\")"
   ]
  },
  {
   "cell_type": "code",
   "execution_count": 32,
   "id": "af331d63",
   "metadata": {},
   "outputs": [],
   "source": [
    "y_scores_forest = y_probas_forest[:, 1] # score = proba of positive class\n",
    "fpr_forest, tpr_forest, thresholds_forest = roc_curve(y_train_5,y_scores_forest)"
   ]
  },
  {
   "cell_type": "code",
   "execution_count": 34,
   "id": "ddd533d7",
   "metadata": {},
   "outputs": [
    {
     "data": {
      "image/png": "[encoded data removed]",
      "text/plain": [
       "<Figure size 432x288 with 1 Axes>"
      ]
     },
     "metadata": {
      "needs_background": "light"
     },
     "output_type": "display_data"
    }
   ],
   "source": [
    "plot_roc_curve(fpr_forest, tpr_forest, \"Random Forest\")\n",
    "plt.legend(loc=\"lower right\")\n",
    "plt.show()"
   ]
  },
  {
   "cell_type": "markdown",
   "id": "815ad490",
   "metadata": {},
   "source": [
    "### Comparing SGDClassifier to RandomForestClassifier’s ROC curve"
   ]
  },
  {
   "cell_type": "code",
   "execution_count": 38,
   "id": "2dfb1ae6",
   "metadata": {},
   "outputs": [
    {
     "data": {
      "image/png": "[encoded data removed]",
      "text/plain": [
       "<Figure size 432x288 with 1 Axes>"
      ]
     },
     "metadata": {
      "needs_background": "light"
     },
     "output_type": "display_data"
    }
   ],
   "source": [
    "plt.plot(fpr, tpr, \"r\", label=\"SGD\")\n",
    "plot_roc_curve(fpr_forest, tpr_forest, \"Random Forest\")\n",
    "plt.legend(loc=\"lower right\")\n",
    "plt.show()"
   ]
  },
  {
   "cell_type": "markdown",
   "id": "bba4abfe",
   "metadata": {},
   "source": [
    "#### Analysis:\n",
    "* The **RandomForestClassifier’s** looks much better than the **SGDClassifier’s**\n",
    "    * As it comes much closer to the top-left corner.\n",
    "    * In turn will have a higher **AUC SCORE**"
   ]
  },
  {
   "cell_type": "code",
   "execution_count": 58,
   "id": "9ba2e467",
   "metadata": {
    "scrolled": true
   },
   "outputs": [
    {
     "name": "stdout",
     "output_type": "stream",
     "text": [
      "AUC of classifier:  99.83 %\n"
     ]
    }
   ],
   "source": [
    "auc = roc_auc_score(y_train_5, y_scores_forest)\n",
    "\n",
    "au = percentage(auc)\n",
    "print(\"AUC of classifier: \", au,\"%\")"
   ]
  },
  {
   "cell_type": "code",
   "execution_count": 56,
   "id": "505903a3",
   "metadata": {},
   "outputs": [
    {
     "name": "stdout",
     "output_type": "stream",
     "text": [
      "Precision of classifier:  99.05 %\n"
     ]
    }
   ],
   "source": [
    "y_train_pred_forest = cross_val_predict(forest_clf, X_train, y_train_5, cv=3)\n",
    "\n",
    "pre = precision_score(y_train_5, y_train_pred_forest)\n",
    "\n",
    "pr = percentage(pre)\n",
    "print(\"Precision of classifier: \", pr,\"%\")"
   ]
  },
  {
   "cell_type": "code",
   "execution_count": 57,
   "id": "689b6541",
   "metadata": {},
   "outputs": [
    {
     "name": "stdout",
     "output_type": "stream",
     "text": [
      "Recall of classifier:  86.63 %\n"
     ]
    }
   ],
   "source": [
    "rec = recall_score(y_train_5, y_train_pred_forest)\n",
    "\n",
    "re = percentage(rec)\n",
    "print(\"Recall of classifier: \", re,\"%\")"
   ]
  },
  {
   "cell_type": "markdown",
   "id": "ae064972",
   "metadata": {},
   "source": [
    "#### Scores:\n",
    "* **AUC score** = 99.83%\n",
    "* **Precision** = 99.05%\n",
    "* **Recall** = 86.63%"
   ]
  },
  {
   "cell_type": "markdown",
   "id": "a2640c24",
   "metadata": {},
   "source": [
    "### Multiclass Classification\n",
    "- **Binary classifiers** distinguish between two classes\n",
    "- **multiclass classifiers** (**multinomial classifiers**) can distinguish between more than two classes"
   ]
  },
  {
   "cell_type": "code",
   "execution_count": 7,
   "id": "a331648d",
   "metadata": {},
   "outputs": [
    {
     "name": "stdout",
     "output_type": "stream",
     "text": [
      "Time:  0.0009961128234863281 \n",
      "Odds:  500 \n",
      "Even:  500\n"
     ]
    }
   ],
   "source": [
    "from time import time\n",
    "\n",
    "even = 0\n",
    "odd = 0\n",
    "\n",
    "start = time()\n",
    "\n",
    "for x in range(1, 1001):\n",
    "    if x % 2 == 0:\n",
    "        even += 1\n",
    "    else:\n",
    "        odd += 1\n",
    "        \n",
    "train_time = time() - start\n",
    "print(\"Time: \", train_time, \"\\nOdds: \", odd, \"\\nEven: \", even)\n",
    "    \n"
   ]
  },
  {
   "cell_type": "code",
   "execution_count": null,
   "id": "25b1d551",
   "metadata": {},
   "outputs": [],
   "source": []
  }
 ],
 "metadata": {
  "kernelspec": {
   "display_name": "Python 3 (ipykernel)",
   "language": "python",
   "name": "python3"
  },
  "language_info": {
   "codemirror_mode": {
    "name": "ipython",
    "version": 3
   },
   "file_extension": ".py",
   "mimetype": "text/x-python",
   "name": "python",
   "nbconvert_exporter": "python",
   "pygments_lexer": "ipython3",
   "version": "3.10.0"
  }
 },
 "nbformat": 4,
 "nbformat_minor": 5
}
