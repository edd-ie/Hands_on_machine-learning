{
 "cells": [
  {
   "cell_type": "markdown",
   "id": "88e585df",
   "metadata": {},
   "source": [
    "## Imports"
   ]
  },
  {
   "cell_type": "code",
   "execution_count": 1,
   "id": "1c7f094e",
   "metadata": {},
   "outputs": [],
   "source": [
    "%matplotlib inline\n",
    "import matplotlib as mpl\n",
    "import sklearn\n",
    "import matplotlib.pyplot as plt\n",
    "import numpy as np\n",
    "import numpy as np\n",
    "import os"
   ]
  },
  {
   "cell_type": "markdown",
   "id": "b70883e5",
   "metadata": {},
   "source": [
    "### Dataset"
   ]
  },
  {
   "cell_type": "code",
   "execution_count": 2,
   "id": "d35d6f2f",
   "metadata": {},
   "outputs": [
    {
     "data": {
      "text/plain": [
       "dict_keys(['data', 'target', 'frame', 'categories', 'feature_names', 'target_names', 'DESCR', 'details', 'url'])"
      ]
     },
     "execution_count": 2,
     "metadata": {},
     "output_type": "execute_result"
    }
   ],
   "source": [
    "from sklearn.datasets import fetch_openml\n",
    "\n",
    "mnist = fetch_openml('mnist_784', version=1)\n",
    "mnist.keys()"
   ]
  },
  {
   "cell_type": "code",
   "execution_count": 3,
   "id": "4bd38a90",
   "metadata": {},
   "outputs": [],
   "source": [
    "X, y = mnist[\"data\"], mnist[\"target\"]\n",
    "y = y.astype(np.uint8)"
   ]
  },
  {
   "cell_type": "markdown",
   "id": "87b061e4",
   "metadata": {},
   "source": [
    "### Spliting the dataset"
   ]
  },
  {
   "cell_type": "code",
   "execution_count": 4,
   "id": "ce27656f",
   "metadata": {},
   "outputs": [],
   "source": [
    "X_train, X_test, y_train, y_test = X[:60000], X[60000:], y[:60000], y[60000:]"
   ]
  },
  {
   "cell_type": "markdown",
   "id": "d1e1b7d3",
   "metadata": {},
   "source": [
    "## Training \n",
    "\n",
    "### 1. SGD Classifier\n",
    "- It a binary classifier\n",
    "- Training to detect 4"
   ]
  },
  {
   "cell_type": "code",
   "execution_count": 6,
   "id": "ca9f58f5",
   "metadata": {},
   "outputs": [],
   "source": [
    "y_train_4 = (y_train == 4)\n",
    "y_test_4 = (y_test == 4)"
   ]
  },
  {
   "cell_type": "code",
   "execution_count": 7,
   "id": "5703aae8",
   "metadata": {},
   "outputs": [
    {
     "data": {
      "text/plain": [
       "SGDClassifier(random_state=42)"
      ]
     },
     "execution_count": 7,
     "metadata": {},
     "output_type": "execute_result"
    }
   ],
   "source": [
    "from sklearn.linear_model import SGDClassifier\n",
    "\n",
    "sgd_clf = SGDClassifier(random_state=42)\n",
    "sgd_clf.fit(X_train, y_train_4)"
   ]
  },
  {
   "cell_type": "markdown",
   "id": "ef7565e9",
   "metadata": {},
   "source": [
    "## Measuring Performance\n",
    "### Confusion matrix"
   ]
  },
  {
   "cell_type": "code",
   "execution_count": 9,
   "id": "1db76ce0",
   "metadata": {},
   "outputs": [
    {
     "data": {
      "text/plain": [
       "array([[52957,  1201],\n",
       "       [  554,  5288]], dtype=int64)"
      ]
     },
     "execution_count": 9,
     "metadata": {},
     "output_type": "execute_result"
    }
   ],
   "source": [
    "from sklearn.model_selection import cross_val_predict\n",
    "from sklearn.metrics import confusion_matrix\n",
    "\n",
    "\"\"\"Set of predictions to be compared to the actual targets\"\"\"\n",
    "y_train_pred = cross_val_predict(sgd_clf, X_train, y_train_4, cv=3) #Classifier, Data, Label/target\n",
    "\n",
    "confusion_matrix(y_train_4, y_train_pred) # Label/target, Predictions"
   ]
  },
  {
   "cell_type": "markdown",
   "id": "5ebe0745",
   "metadata": {},
   "source": [
    "#### Analysis\n",
    "* **True Negatives** = 52957\n",
    "* **False Negatives** = 554\n",
    "* **False Positives** = 1201\n",
    "* **True Positives** = 5288"
   ]
  },
  {
   "cell_type": "markdown",
   "id": "8aef93ee",
   "metadata": {},
   "source": [
    "### Precision & Recall scores"
   ]
  },
  {
   "cell_type": "code",
   "execution_count": 13,
   "id": "6dcf5867",
   "metadata": {},
   "outputs": [
    {
     "name": "stdout",
     "output_type": "stream",
     "text": [
      "Precision = 0.8149175527816305 \n",
      "Recall =  0.905169462512838\n"
     ]
    }
   ],
   "source": [
    "from sklearn.metrics import precision_score, recall_score\n",
    "\n",
    "prec = precision_score(y_train_4, y_train_pred) # Label/target, Predictions\n",
    "rec = recall_score(y_train_4, y_train_pred) # Label/target, Predictions\n",
    "\n",
    "print(\"Precision =\", prec, \"\\nRecall = \", rec)"
   ]
  },
  {
   "cell_type": "markdown",
   "id": "d10ef03b",
   "metadata": {},
   "source": [
    "#### Analysis\n",
    "* Claims an image represents a 5, it is correct only **83.71%** of the time. (**Precision**)\n",
    "* Only detects **65.12%** of the 5s. (**Sensitivity**)\n",
    "\n",
    "### Harmonic mean / F1 score"
   ]
  },
  {
   "cell_type": "code",
   "execution_count": 15,
   "id": "954a31f5",
   "metadata": {},
   "outputs": [
    {
     "name": "stdout",
     "output_type": "stream",
     "text": [
      "F1 score = 0.8576757764982564\n"
     ]
    }
   ],
   "source": [
    "from sklearn.metrics import f1_score\n",
    "\n",
    "f1 = f1_score(y_train_4, y_train_pred)\n",
    "\n",
    "print(\"F1 score =\", f1)"
   ]
  },
  {
   "cell_type": "markdown",
   "id": "bc3e23de",
   "metadata": {},
   "source": [
    "## Precision/Recall Trade-off\n",
    "\n",
    "### Deciding a threshold\n",
    "\n",
    "#### 1. Precision vs Recall curve"
   ]
  },
  {
   "cell_type": "code",
   "execution_count": 19,
   "id": "697833aa",
   "metadata": {},
   "outputs": [],
   "source": [
    "\"\"\"Scores of all instances in the training set\"\"\"\n",
    "y_scores = cross_val_predict(sgd_clf, X_train, y_train_4, cv=3, method=\"decision_function\")"
   ]
  },
  {
   "cell_type": "code",
   "execution_count": 21,
   "id": "a13f7380",
   "metadata": {},
   "outputs": [
    {
     "data": {
      "image/png": "[encoded data removed]",
      "text/plain": [
       "<Figure size 432x288 with 1 Axes>"
      ]
     },
     "metadata": {
      "needs_background": "light"
     },
     "output_type": "display_data"
    }
   ],
   "source": [
    "\"\"\"compute precision and recall for all possible thresholds\"\"\"\n",
    "from sklearn.metrics import precision_recall_curve\n",
    "\n",
    "precisions, recalls, thresholds = precision_recall_curve(y_train_4, y_scores)\n",
    "\n",
    "\n",
    "\n",
    "\"\"\"PLOTTING PRECISION & RECALL AGAINST THRESHOLD\"\"\"\n",
    "\n",
    "def plot_precision_recall_vs_threshold(precisions, recalls, thresholds):\n",
    "    plt.plot(thresholds, precisions[:-1], \"b--\", label=\"Precision\")\n",
    "    plt.plot(thresholds, recalls[:-1], \"g-\", label=\"Recall\")\n",
    "    \n",
    "    plt.xlabel(\"Threshold\")\n",
    "    plt.title(\"Precision & Recall vs Decision threshold\")\n",
    "    plt.legend(shadow=True)\n",
    "    plt.grid()\n",
    "    \n",
    "\n",
    "plot_precision_recall_vs_threshold(precisions, recalls, thresholds)\n",
    "plt.show()"
   ]
  },
  {
   "cell_type": "code",
   "execution_count": 25,
   "id": "3578f7aa",
   "metadata": {},
   "outputs": [
    {
     "data": {
      "text/plain": [
       "3196.992969466486"
      ]
     },
     "execution_count": 25,
     "metadata": {},
     "output_type": "execute_result"
    }
   ],
   "source": [
    "\"\"\"Selecting a threshold that give 90% Precision\"\"\"\n",
    "threshold_90_precision = thresholds[np.argmax(precisions >= 0.90)]\n",
    "threshold_90_precision"
   ]
  },
  {
   "cell_type": "code",
   "execution_count": 26,
   "id": "1f99ae29",
   "metadata": {},
   "outputs": [
    {
     "name": "stdout",
     "output_type": "stream",
     "text": [
      "Recall at 90% precision = 0.8377268058883944\n"
     ]
    }
   ],
   "source": [
    "y_train_pred_90 = (y_scores >= threshold_90_precision)\n",
    "\n",
    "rec = recall_score(y_train_4, y_train_pred_90)\n",
    "\n",
    "print(\"Recall at 90% precision =\", rec)"
   ]
  },
  {
   "cell_type": "markdown",
   "id": "cb1e9077",
   "metadata": {},
   "source": [
    "#### 2. ROC curve"
   ]
  },
  {
   "cell_type": "code",
   "execution_count": 48,
   "id": "4d6e5317",
   "metadata": {},
   "outputs": [
    {
     "data": {
      "image/png": "[encoded data removed]",
      "text/plain": [
       "<Figure size 432x288 with 1 Axes>"
      ]
     },
     "metadata": {
      "needs_background": "light"
     },
     "output_type": "display_data"
    }
   ],
   "source": [
    "from sklearn.metrics import roc_curve\n",
    "\n",
    "fpr, tpr, thresholds = roc_curve(y_train_4, y_scores)\n",
    "\n",
    "\n",
    "\"\"\"PLOTTING False Positive Rate vs True Positive Rate\"\"\"\n",
    "def plot_roc_curve(fpr, tpr, label=None):\n",
    "    plt.plot(fpr, tpr, linewidth=2, label=\"FPR vs TPR\")\n",
    "    plt.plot([0, 1], [0, 1], 'k:') # Dashed diagonal\n",
    "    \n",
    "    plt.xlabel(\"False Positive Rate\")\n",
    "    plt.ylabel(\"True Positive Rate\")\n",
    "    plt.title(\"ROC Curve\")\n",
    "    plt.legend(loc=\"best\", shadow=True, fontsize=\"medium\")\n",
    "    plt.grid()\n",
    "\n",
    "plot_roc_curve(fpr, tpr)\n",
    "plt.show()"
   ]
  },
  {
   "cell_type": "code",
   "execution_count": 30,
   "id": "ece7f303",
   "metadata": {},
   "outputs": [
    {
     "name": "stdout",
     "output_type": "stream",
     "text": [
      "AUC score of SDG classifier = 0.9859276923382874\n"
     ]
    }
   ],
   "source": [
    "from sklearn.metrics import roc_auc_score\n",
    "\n",
    "auc = roc_auc_score(y_train_4, y_scores)\n",
    "print(\"AUC score of SDG classifier =\", auc)"
   ]
  },
  {
   "cell_type": "markdown",
   "id": "1abfa40a",
   "metadata": {},
   "source": [
    "#### Scores:\n",
    "* **AUC score** = 98.59%\n",
    "* **Precision** = 81.49%\n",
    "* **Recall** = 90.52%"
   ]
  },
  {
   "cell_type": "markdown",
   "id": "e0837918",
   "metadata": {},
   "source": [
    "### 2. RandomForestClassifier"
   ]
  },
  {
   "cell_type": "code",
   "execution_count": 33,
   "id": "d3bba684",
   "metadata": {},
   "outputs": [],
   "source": [
    "\"\"\"Train\"\"\"\n",
    "from sklearn.ensemble import RandomForestClassifier\n",
    "\n",
    "forest_clf = RandomForestClassifier(random_state=42)"
   ]
  },
  {
   "cell_type": "code",
   "execution_count": 34,
   "id": "9bc76727",
   "metadata": {},
   "outputs": [
    {
     "data": {
      "text/plain": [
       "array([[54118,    40],\n",
       "       [  709,  5133]], dtype=int64)"
      ]
     },
     "execution_count": 34,
     "metadata": {},
     "output_type": "execute_result"
    }
   ],
   "source": [
    "\"\"\"Set of predictions to be compared to the actual targets\"\"\"\n",
    "y_train_pred = cross_val_predict(forest_clf, X_train, y_train_4, cv=3) #Classifier, Data, Label/target\n",
    "\n",
    "confusion_matrix(y_train_4, y_train_pred) # Label/target, Predictions"
   ]
  },
  {
   "cell_type": "markdown",
   "id": "68d8d11a",
   "metadata": {},
   "source": [
    "#### Analysis\n",
    "* **True Negatives** = 54118\n",
    "* **False Negatives** = 40\n",
    "* **False Positives** = 709\n",
    "* **True Positives** = 5133"
   ]
  },
  {
   "cell_type": "code",
   "execution_count": 35,
   "id": "ee851ae1",
   "metadata": {},
   "outputs": [
    {
     "name": "stdout",
     "output_type": "stream",
     "text": [
      "Precision = 0.992267543011792 \n",
      "Recall =  0.8786374529270797\n"
     ]
    }
   ],
   "source": [
    "prec = precision_score(y_train_4, y_train_pred) # Label/target, Predictions\n",
    "rec = recall_score(y_train_4, y_train_pred) # Label/target, Predictions\n",
    "\n",
    "print(\"Precision =\", prec, \"\\nRecall = \", rec)"
   ]
  },
  {
   "cell_type": "code",
   "execution_count": 50,
   "id": "4eb635e6",
   "metadata": {},
   "outputs": [
    {
     "data": {
      "image/png": "[encoded data removed]",
      "text/plain": [
       "<Figure size 432x288 with 1 Axes>"
      ]
     },
     "metadata": {
      "needs_background": "light"
     },
     "output_type": "display_data"
    }
   ],
   "source": [
    "\"\"\"Scores of all instances in the training set\"\"\"\n",
    "y_probas_forest = cross_val_predict(forest_clf, X_train, y_train_4, cv=3, method=\"predict_proba\")\n",
    "\n",
    "\n",
    "\"\"\"The roc_curve() function expects labels and scores, but instead of scores you can give it class probabilities\"\"\"\n",
    "y_scores_forest = y_probas_forest[:, 1] # score = proba of positive class\n",
    "fpr_forest, tpr_forest, thresholds_forest = roc_curve(y_train_4,y_scores_forest)\n",
    "\n",
    "\n",
    "\"\"\"PLOTTING False Positive Rate vs True Positive Rate\"\"\"\n",
    "plot_roc_curve(fpr_forest, tpr_forest, \"Random Forest\") # function, check above\n",
    "plt.legend(loc=\"lower right\")\n",
    "plt.show()"
   ]
  },
  {
   "cell_type": "code",
   "execution_count": 53,
   "id": "4022f53f",
   "metadata": {},
   "outputs": [
    {
     "name": "stdout",
     "output_type": "stream",
     "text": [
      "AUC score of RandomForest classifier = 0.9982278527638186\n"
     ]
    }
   ],
   "source": [
    "auc = roc_auc_score(y_train_4, y_scores_forest)\n",
    "print(\"AUC score of RandomForest classifier =\", auc)"
   ]
  },
  {
   "cell_type": "markdown",
   "id": "e3feb940",
   "metadata": {},
   "source": [
    "#### Scores:\n",
    "* **AUC score** = 99.82%\n",
    "* **Precision** = 99.23%\n",
    "* **Recall** = 87.86%"
   ]
  },
  {
   "cell_type": "markdown",
   "id": "530ccaca",
   "metadata": {},
   "source": [
    "### Comparing SGDClassifier to RandomForestClassifier’s ROC curve"
   ]
  },
  {
   "cell_type": "code",
   "execution_count": 49,
   "id": "724ed79c",
   "metadata": {},
   "outputs": [
    {
     "data": {
      "image/png": "[encoded data removed]",
      "text/plain": [
       "<Figure size 432x288 with 1 Axes>"
      ]
     },
     "metadata": {
      "needs_background": "light"
     },
     "output_type": "display_data"
    }
   ],
   "source": [
    "plt.plot(fpr, tpr, \"r--\", label=\"SGD\")\n",
    "plot_roc_curve(fpr_forest, tpr_forest, \"Random Forest\")\n",
    "plt.legend(loc=\"lower right\")\n",
    "plt.show()"
   ]
  },
  {
   "cell_type": "markdown",
   "id": "ca868f49",
   "metadata": {},
   "source": [
    "#### Analysis:\n",
    "* The **RandomForestClassifier’s** looks much better than the **SGDClassifier’s**\n",
    "    * As it comes much closer to the top-left corner.\n",
    "    * In turn will have a higher **AUC SCORE**"
   ]
  },
  {
   "cell_type": "code",
   "execution_count": null,
   "id": "4fcb3626",
   "metadata": {},
   "outputs": [],
   "source": []
  }
 ],
 "metadata": {
  "kernelspec": {
   "display_name": "Python 3 (ipykernel)",
   "language": "python",
   "name": "python3"
  },
  "language_info": {
   "codemirror_mode": {
    "name": "ipython",
    "version": 3
   },
   "file_extension": ".py",
   "mimetype": "text/x-python",
   "name": "python",
   "nbconvert_exporter": "python",
   "pygments_lexer": "ipython3",
   "version": "3.10.0"
  }
 },
 "nbformat": 4,
 "nbformat_minor": 5
}
