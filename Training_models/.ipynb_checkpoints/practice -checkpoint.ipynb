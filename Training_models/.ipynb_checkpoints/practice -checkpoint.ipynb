{
 "cells": [
  {
   "cell_type": "markdown",
   "id": "23700a43",
   "metadata": {},
   "source": [
    "### Creating a linear dataset\n",
    "**function used to generate the data is y = 4 + 3x1 + Gaussian noise**"
   ]
  },
  {
   "cell_type": "code",
   "execution_count": 11,
   "id": "780a2d75",
   "metadata": {},
   "outputs": [],
   "source": [
    "import numpy as np\n",
    "import pandas as pd\n",
    "import matplotlib.pyplot as plt\n",
    "\n",
    "X = 2 * np.random.rand(100, 1)\n",
    "y = 4 + 3 * X + np.random.randn(100, 1)"
   ]
  },
  {
   "cell_type": "markdown",
   "id": "1af724f6",
   "metadata": {},
   "source": [
    "### Normal Equation\n",
    "**θ = (X^⊺ * X)^−1 * X^⊺ * y**\n",
    "\n",
    "* **a*b** = dot product\n",
    "* **X^T** = Transpose of X\n",
    "* **(X^⊺ * X)^−1** = inverse of the dot product of the transpose of X and X"
   ]
  },
  {
   "cell_type": "code",
   "execution_count": 48,
   "id": "ee334992",
   "metadata": {},
   "outputs": [
    {
     "data": {
      "text/plain": [
       "(74,\n",
       " array([  2, -48,  26]),\n",
       " array([[5, 9],\n",
       "        [4, 2],\n",
       "        [7, 3]]))"
      ]
     },
     "execution_count": 48,
     "metadata": {},
     "output_type": "execute_result"
    }
   ],
   "source": [
    "z = [5, 4, 7]\n",
    "a = [9, 2, 3]\n",
    "a = np.array(a)\n",
    "z = np.array(z)\n",
    "\n",
    "# Find dot pdct\n",
    "b = np.dot(a,z)\n",
    "\n",
    "# Cross product\n",
    "c = np.cross(a,z)\n",
    "\n",
    "d = np.c_[np.array(z), np.array(a)]\n",
    "\n",
    "b, c, d"
   ]
  },
  {
   "cell_type": "code",
   "execution_count": 8,
   "id": "503128bd",
   "metadata": {},
   "outputs": [
    {
     "data": {
      "text/plain": [
       "array([[4.08890556],\n",
       "       [2.85229489]])"
      ]
     },
     "execution_count": 8,
     "metadata": {},
     "output_type": "execute_result"
    }
   ],
   "source": [
    "X_b = np.c_[np.ones((100, 1)), X] # add x0 = 1 to each instance\n",
    "\n",
    "# Equation\n",
    "theta_best = np.linalg.inv(X_b.T.dot(X_b)).dot(X_b.T).dot(y)\n",
    "theta_best"
   ]
  },
  {
   "cell_type": "markdown",
   "id": "7aa0b2d5",
   "metadata": {},
   "source": [
    "* **.linalg** = linear algebra\n",
    "* **.inv** = Compute the (multiplicative) inverse of a matrix\n",
    "* **np.ones((row, column))** = output 1 for specified rows and columns\n",
    "* **.T** = transpose\n",
    "* **.dot()** = dot product\n",
    "* **np.c_[]** = arranges arrays in proper axis from [x1, y1], [x2, y2] to [x1, x2], [y1, y2]\n",
    "\n",
    "**predictions using θ:**"
   ]
  },
  {
   "cell_type": "code",
   "execution_count": 9,
   "id": "3ae78185",
   "metadata": {},
   "outputs": [
    {
     "data": {
      "text/plain": [
       "array([[4.08890556],\n",
       "       [9.79349534]])"
      ]
     },
     "execution_count": 9,
     "metadata": {},
     "output_type": "execute_result"
    }
   ],
   "source": [
    "X_new = np.array([[0], [2]])\n",
    "X_new_b = np.c_[np.ones((2, 1)), X_new] # add x0 = 1 to each instance\n",
    "y_predict = X_new_b.dot(theta_best)\n",
    "y_predict"
   ]
  },
  {
   "cell_type": "code",
   "execution_count": 18,
   "id": "dbe61232",
   "metadata": {},
   "outputs": [
    {
     "data": {
      "image/png": "[encoded data removed]",
      "text/plain": [
       "<Figure size 432x288 with 1 Axes>"
      ]
     },
     "metadata": {
      "needs_background": "light"
     },
     "output_type": "display_data"
    }
   ],
   "source": [
    "plt.plot(X_new, y_predict, \"r-\", label=\"Predictions\")\n",
    "plt.plot(X, y, \"b.\")\n",
    "plt.axis([0, 2, 0, 15])\n",
    "plt.legend(loc=\"best\", shadow=True, fontsize=\"large\")\n",
    "plt.show()"
   ]
  },
  {
   "cell_type": "markdown",
   "id": "9b3c8252",
   "metadata": {},
   "source": [
    "### Performing Linear Regression using Scikit-Learn"
   ]
  },
  {
   "cell_type": "code",
   "execution_count": 75,
   "id": "0a587900",
   "metadata": {},
   "outputs": [
    {
     "data": {
      "text/plain": [
       "(array([3.94004238]), array([[3.11034994]]))"
      ]
     },
     "execution_count": 75,
     "metadata": {},
     "output_type": "execute_result"
    }
   ],
   "source": [
    "from sklearn.linear_model import LinearRegression\n",
    "\n",
    "lin_reg = LinearRegression()\n",
    "lin_reg.fit(X, y)\n",
    "lin_reg.intercept_, lin_reg.coef_"
   ]
  },
  {
   "cell_type": "code",
   "execution_count": 76,
   "id": "5ca869c2",
   "metadata": {},
   "outputs": [
    {
     "data": {
      "text/plain": [
       "array([[ 3.94004238],\n",
       "       [10.16074226]])"
      ]
     },
     "execution_count": 76,
     "metadata": {},
     "output_type": "execute_result"
    }
   ],
   "source": [
    "lin_reg.predict(X_new)"
   ]
  },
  {
   "cell_type": "markdown",
   "id": "7734bb93",
   "metadata": {},
   "source": [
    "#### LinearRegression class is based on the scipy.linalg.lstsq() function [least squares]"
   ]
  },
  {
   "cell_type": "code",
   "execution_count": 77,
   "id": "41436c81",
   "metadata": {
    "scrolled": true
   },
   "outputs": [
    {
     "data": {
      "text/plain": [
       "array([[ 7.42081501],\n",
       "       [-0.10867098]])"
      ]
     },
     "execution_count": 77,
     "metadata": {},
     "output_type": "execute_result"
    }
   ],
   "source": [
    "theta_best_svd, residuals, rank, s = np.linalg.lstsq(X_b, y, rcond=1e-6)\n",
    "theta_best_svd"
   ]
  },
  {
   "cell_type": "code",
   "execution_count": 79,
   "id": "09b84c73",
   "metadata": {},
   "outputs": [
    {
     "data": {
      "text/plain": [
       "(array([370.41723107]), 2, array([14.59765938,  4.10553633]))"
      ]
     },
     "execution_count": 79,
     "metadata": {},
     "output_type": "execute_result"
    }
   ],
   "source": [
    "residuals, rank, s"
   ]
  },
  {
   "cell_type": "code",
   "execution_count": null,
   "id": "1040ae7b",
   "metadata": {},
   "outputs": [],
   "source": []
  }
 ],
 "metadata": {
  "kernelspec": {
   "display_name": "Python 3 (ipykernel)",
   "language": "python",
   "name": "python3"
  },
  "language_info": {
   "codemirror_mode": {
    "name": "ipython",
    "version": 3
   },
   "file_extension": ".py",
   "mimetype": "text/x-python",
   "name": "python",
   "nbconvert_exporter": "python",
   "pygments_lexer": "ipython3",
   "version": "3.10.0"
  }
 },
 "nbformat": 4,
 "nbformat_minor": 5
}
