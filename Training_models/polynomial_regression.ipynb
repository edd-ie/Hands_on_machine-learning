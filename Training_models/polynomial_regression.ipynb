{
 "cells": [
  {
   "cell_type": "markdown",
   "id": "05cf9389",
   "metadata": {},
   "source": [
    "## Using linear regression on Polynomial regression\n",
    "### Generating a dataset"
   ]
  },
  {
   "cell_type": "code",
   "execution_count": 23,
   "id": "88e70f40",
   "metadata": {},
   "outputs": [],
   "source": [
    "import matplotlib.pyplot as plt\n",
    "import pandas as pd\n",
    "import numpy as np"
   ]
  },
  {
   "cell_type": "code",
   "execution_count": 24,
   "id": "487bc8a6",
   "metadata": {},
   "outputs": [],
   "source": [
    "m = 100                                        # number of values\n",
    "X = 6 * np.random.rand(m, 1) - 3               #  generate m values of x\n",
    "y = 0.5 * X**2 + X + 2 + np.random.randn(m, 1) # generate m values of y (polynomial function)"
   ]
  },
  {
   "cell_type": "markdown",
   "id": "22cdf773",
   "metadata": {},
   "source": [
    "### Transform the data\n",
    "* use Scikit-Learn’s PolynomialFeatures class to transform our training data\n",
    "* adding the square (second degree polynomial) of each feature in the training set as a new feature (in this case there is just one feature):"
   ]
  },
  {
   "cell_type": "code",
   "execution_count": 25,
   "id": "33551215",
   "metadata": {},
   "outputs": [
    {
     "data": {
      "text/plain": [
       "array([2.69338415])"
      ]
     },
     "execution_count": 25,
     "metadata": {},
     "output_type": "execute_result"
    }
   ],
   "source": [
    "from sklearn.preprocessing import PolynomialFeatures\n",
    "\n",
    "poly_features = PolynomialFeatures(degree=2, include_bias=False)\n",
    "X_poly = poly_features.fit_transform(X)\n",
    "X[0]"
   ]
  },
  {
   "cell_type": "code",
   "execution_count": 26,
   "id": "bb6edb54",
   "metadata": {},
   "outputs": [
    {
     "data": {
      "text/plain": [
       "array([2.69338415, 7.2543182 ])"
      ]
     },
     "execution_count": 26,
     "metadata": {},
     "output_type": "execute_result"
    }
   ],
   "source": [
    "X_poly[0]"
   ]
  },
  {
   "cell_type": "markdown",
   "id": "c0c46e6a",
   "metadata": {},
   "source": [
    "### Fit LinearRegression\n",
    "* X_poly now contains the original feature of X plus the square of this feature."
   ]
  },
  {
   "cell_type": "code",
   "execution_count": 27,
   "id": "ec1b0a02",
   "metadata": {},
   "outputs": [
    {
     "data": {
      "text/plain": [
       "(array([2.09495388]), array([[0.96732141, 0.46992291]]))"
      ]
     },
     "execution_count": 27,
     "metadata": {},
     "output_type": "execute_result"
    }
   ],
   "source": [
    "from sklearn.linear_model import LinearRegression\n",
    "\n",
    "lin_reg = LinearRegression()\n",
    "lin_reg.fit(X_poly, y)\n",
    "lin_reg.intercept_, lin_reg.coef_"
   ]
  },
  {
   "cell_type": "code",
   "execution_count": 28,
   "id": "0311344b",
   "metadata": {},
   "outputs": [
    {
     "data": {
      "image/png": "[encoded data removed]",
      "text/plain": [
       "<Figure size 432x288 with 1 Axes>"
      ]
     },
     "metadata": {
      "needs_background": "light"
     },
     "output_type": "display_data"
    }
   ],
   "source": [
    "plt.plot(X_poly, \"r-\", label=\"Predictions\")\n",
    "plt.plot(X, y, \"b.\")\n",
    "plt.axis([0, 3, 0, 10])\n",
    "plt.legend(loc=\"best\", shadow=True, fontsize=\"large\")\n",
    "plt.show()"
   ]
  },
  {
   "cell_type": "code",
   "execution_count": null,
   "id": "fd05e1b7",
   "metadata": {},
   "outputs": [],
   "source": []
  }
 ],
 "metadata": {
  "kernelspec": {
   "display_name": "Python 3 (ipykernel)",
   "language": "python",
   "name": "python3"
  },
  "language_info": {
   "codemirror_mode": {
    "name": "ipython",
    "version": 3
   },
   "file_extension": ".py",
   "mimetype": "text/x-python",
   "name": "python",
   "nbconvert_exporter": "python",
   "pygments_lexer": "ipython3",
   "version": "3.10.0"
  }
 },
 "nbformat": 4,
 "nbformat_minor": 5
}
